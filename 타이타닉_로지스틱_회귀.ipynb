{
  "nbformat": 4,
  "nbformat_minor": 0,
  "metadata": {
    "colab": {
      "provenance": [],
      "authorship_tag": "ABX9TyNFwLw/gTUcVU8KebC5wOuH",
      "include_colab_link": true
    },
    "kernelspec": {
      "name": "python3",
      "display_name": "Python 3"
    },
    "language_info": {
      "name": "python"
    }
  },
  "cells": [
    {
      "cell_type": "markdown",
      "metadata": {
        "id": "view-in-github",
        "colab_type": "text"
      },
      "source": [
        "<a href=\"https://colab.research.google.com/github/cjsdudwls1/simple_things/blob/main/%ED%83%80%EC%9D%B4%ED%83%80%EB%8B%89_%EB%A1%9C%EC%A7%80%EC%8A%A4%ED%8B%B1_%ED%9A%8C%EA%B7%80.ipynb\" target=\"_parent\"><img src=\"https://colab.research.google.com/assets/colab-badge.svg\" alt=\"Open In Colab\"/></a>"
      ]
    },
    {
      "cell_type": "markdown",
      "source": [
        "# **필요한 라이브러리 불러오기**"
      ],
      "metadata": {
        "id": "zPJ0e6aHOMUL"
      }
    },
    {
      "cell_type": "code",
      "source": [
        "import pandas as pd\n",
        "import numpy as np\n",
        "import matplotlib.pyplot as plt\n",
        "import seaborn as sns\n",
        "\n",
        "# 사이킷런 관련 모듈\n",
        "from sklearn.model_selection import train_test_split, RandomizedSearchCV\n",
        "from sklearn.linear_model import LogisticRegression\n",
        "from sklearn.metrics import confusion_matrix, classification_report"
      ],
      "metadata": {
        "id": "FcZLA-bVOMZp"
      },
      "execution_count": null,
      "outputs": []
    },
    {
      "cell_type": "markdown",
      "source": [
        "# **타이타닉 데이터 가져오기**"
      ],
      "metadata": {
        "id": "j1fZKrIrOMei"
      }
    },
    {
      "cell_type": "code",
      "source": [
        "url = 'https://raw.githubusercontent.com/datasciencedojo/datasets/master/titanic.csv'\n",
        "df = pd.read_csv(url)\n",
        "print(\"데이터셋 모양:\", df.shape)\n",
        "print(df.head())"
      ],
      "metadata": {
        "colab": {
          "base_uri": "https://localhost:8080/"
        },
        "id": "ptbEDVVvOMjA",
        "outputId": "af78fbc6-f459-44d8-d497-5b727e021072"
      },
      "execution_count": null,
      "outputs": [
        {
          "output_type": "stream",
          "name": "stdout",
          "text": [
            "데이터셋 모양: (891, 12)\n",
            "   PassengerId  Survived  Pclass  \\\n",
            "0            1         0       3   \n",
            "1            2         1       1   \n",
            "2            3         1       3   \n",
            "3            4         1       1   \n",
            "4            5         0       3   \n",
            "\n",
            "                                                Name     Sex   Age  SibSp  \\\n",
            "0                            Braund, Mr. Owen Harris    male  22.0      1   \n",
            "1  Cumings, Mrs. John Bradley (Florence Briggs Th...  female  38.0      1   \n",
            "2                             Heikkinen, Miss. Laina  female  26.0      0   \n",
            "3       Futrelle, Mrs. Jacques Heath (Lily May Peel)  female  35.0      1   \n",
            "4                           Allen, Mr. William Henry    male  35.0      0   \n",
            "\n",
            "   Parch            Ticket     Fare Cabin Embarked  \n",
            "0      0         A/5 21171   7.2500   NaN        S  \n",
            "1      0          PC 17599  71.2833   C85        C  \n",
            "2      0  STON/O2. 3101282   7.9250   NaN        S  \n",
            "3      0            113803  53.1000  C123        S  \n",
            "4      0            373450   8.0500   NaN        S  \n"
          ]
        }
      ]
    },
    {
      "cell_type": "markdown",
      "source": [
        "# **데이터 전처리 및 훈련/검증 데이터 분할**"
      ],
      "metadata": {
        "id": "pTRTBec1OMoD"
      }
    },
    {
      "cell_type": "code",
      "source": [
        "df = df.drop(['PassengerId', 'Name', 'Ticket', 'Cabin'], axis=1)"
      ],
      "metadata": {
        "id": "EJiInm9VOMs4"
      },
      "execution_count": null,
      "outputs": []
    },
    {
      "cell_type": "code",
      "source": [
        "df['Age'] = df['Age'].fillna(df['Age'].median())\n",
        "df['Embarked'] = df['Embarked'].fillna(df['Embarked'].mode()[0])\n",
        "\n",
        "# 범주형 변수 전처리: 'Sex'와 'Embarked'를 원-핫 인코딩 (첫번째 범주(drop_first=True) 제거하여 다중공선성 줄이기)\n",
        "df = pd.get_dummies(df, columns=['Sex', 'Embarked'], drop_first=True)\n",
        "print(\"\\n전처리 후 데이터셋 모양:\", df.shape)\n",
        "print(df.head())\n",
        "\n",
        "# 피처(X)와 타겟(y) 분리 ('Survived'가 타겟)\n",
        "X = df.drop('Survived', axis=1)\n",
        "y = df['Survived']\n",
        "\n",
        "# 훈련데이터와 검증데이터 분할 (검증 데이터 20%, stratify로 클래스 비율 유지)\n",
        "X_train, X_val, y_train, y_val = train_test_split(X, y, test_size=0.2, random_state=42, stratify=y)\n",
        "print(\"\\n훈련 데이터 모양:\", X_train.shape, y_train.shape)\n",
        "print(\"검증 데이터 모양:\", X_val.shape, y_val.shape)"
      ],
      "metadata": {
        "colab": {
          "base_uri": "https://localhost:8080/"
        },
        "id": "GlsaXpMOOtXz",
        "outputId": "4f482558-a274-4a94-c4ba-17d6b4f71060"
      },
      "execution_count": null,
      "outputs": [
        {
          "output_type": "stream",
          "name": "stdout",
          "text": [
            "\n",
            "전처리 후 데이터셋 모양: (891, 9)\n",
            "   Survived  Pclass   Age  SibSp  Parch     Fare  Sex_male  Embarked_Q  \\\n",
            "0         0       3  22.0      1      0   7.2500      True       False   \n",
            "1         1       1  38.0      1      0  71.2833     False       False   \n",
            "2         1       3  26.0      0      0   7.9250     False       False   \n",
            "3         1       1  35.0      1      0  53.1000     False       False   \n",
            "4         0       3  35.0      0      0   8.0500      True       False   \n",
            "\n",
            "   Embarked_S  \n",
            "0        True  \n",
            "1       False  \n",
            "2        True  \n",
            "3        True  \n",
            "4        True  \n",
            "\n",
            "훈련 데이터 모양: (712, 8) (712,)\n",
            "검증 데이터 모양: (179, 8) (179,)\n"
          ]
        }
      ]
    },
    {
      "cell_type": "markdown",
      "source": [
        "# **로지스틱 회귀 모델에 랜덤서치(RandomizedSearchCV) 적용하여 최적의 모델 찾기**"
      ],
      "metadata": {
        "id": "yXACbUfIOMx_"
      }
    },
    {
      "cell_type": "code",
      "source": [
        "log_reg = LogisticRegression(solver='liblinear', max_iter=1000)\n",
        "\n",
        "# 하이퍼파라미터 분포 설정\n",
        "param_dist = {\n",
        "    'penalty': ['l1', 'l2'],\n",
        "    'C': np.logspace(-3, 3, 100)  # 10^-3 ~ 10^3 범위에서 검색\n",
        "}\n",
        "\n",
        "# RandomizedSearchCV 설정 (50회 반복, 5-폴드 교차검증)\n",
        "random_search = RandomizedSearchCV(\n",
        "    estimator=log_reg,\n",
        "    param_distributions=param_dist,\n",
        "    n_iter=50,\n",
        "    cv=5,\n",
        "    random_state=42,\n",
        "    n_jobs=-1\n",
        ")\n",
        "\n",
        "# 훈련 데이터에 대해 랜덤서치 수행\n",
        "random_search.fit(X_train, y_train)\n",
        "\n",
        "# 최적 모델 및 하이퍼파라미터 출력\n",
        "best_model = random_search.best_estimator_\n",
        "print(\"\\n최적의 하이퍼파라미터:\", random_search.best_params_)"
      ],
      "metadata": {
        "colab": {
          "base_uri": "https://localhost:8080/"
        },
        "id": "rV4tMzGSOM3U",
        "outputId": "ccea7564-db2f-4347-a5fd-9aabac3ee8de"
      },
      "execution_count": null,
      "outputs": [
        {
          "output_type": "stream",
          "name": "stdout",
          "text": [
            "\n",
            "최적의 하이퍼파라미터: {'penalty': 'l2', 'C': 0.08697490026177834}\n"
          ]
        }
      ]
    },
    {
      "cell_type": "markdown",
      "source": [
        "# **검증 데이터에 대한 예측 및 혼동행렬 제시**"
      ],
      "metadata": {
        "id": "IPRoi88pOM8c"
      }
    },
    {
      "cell_type": "code",
      "source": [
        "import numpy as np\n",
        "from sklearn.linear_model import LogisticRegression\n",
        "from sklearn.model_selection import RandomizedSearchCV\n",
        "\n",
        "# 1. 로지스틱 회귀 모델 객체 생성\n",
        "# ------------------------------------------------------------------------------\n",
        "# LogisticRegression: 이진 분류 문제에서 널리 사용하는 선형 모델\n",
        "# solver='liblinear': 작은 데이터셋에 적합하며, L1 및 L2 정규화를 모두 지원하는 알고리즘 선택\n",
        "# max_iter=1000: 모델이 수렴할 때까지 최대 1000번의 반복을 수행 (기본값보다 크게 설정하여 수렴 문제 예방)\n",
        "log_reg = LogisticRegression(solver='liblinear', max_iter=1000)\n",
        "\n",
        "# 2. 하이퍼파라미터 검색 범위 설정\n",
        "# ------------------------------------------------------------------------------\n",
        "# 하이퍼파라미터: 모델 성능에 영향을 미치며 학습 전에 설정해야 하는 매개변수들\n",
        "# 'penalty': 모델의 복잡도를 조절하는 정규화(규제) 방식 선택 ('l1'은 Lasso, 'l2'는 Ridge 정규화)\n",
        "# 'C': 규제 강도의 역수로, 값이 작으면 강한 규제가 적용되어 과적합을 방지하고,\n",
        "#      값이 크면 규제가 약해져 모델이 데이터에 더 잘 적합되지만 과적합 위험 증가\n",
        "# np.logspace(-3, 3, 100): 10^(-3)부터 10^(3)까지 로그 스케일로 100개의 값을 생성\n",
        "param_dist = {\n",
        "    'penalty': ['l1', 'l2'],              # L1 및 L2 정규화 방식을 모두 탐색\n",
        "    'C': np.logspace(-3, 3, 100)            # 10^-3부터 10^3까지의 값을 100개 생성하여 탐색\n",
        "}\n",
        "\n",
        "# 3. RandomizedSearchCV 객체 생성\n",
        "# ------------------------------------------------------------------------------\n",
        "# RandomizedSearchCV: 지정한 횟수만큼 무작위로 하이퍼파라미터 조합을 선택해 교차검증을 수행\n",
        "# estimator: 평가할 기본 모델 (여기서는 로지스틱 회귀)\n",
        "# param_distributions: 탐색할 하이퍼파라미터의 분포(혹은 리스트)\n",
        "# n_iter: 시도할 하이퍼파라미터 조합의 수 (여기서는 50회 반복)\n",
        "# cv: 교차검증을 위한 폴드 수 (5-폴드 교차검증)\n",
        "# random_state: 결과의 재현성을 위한 난수 시드 (42로 설정)\n",
        "# n_jobs: 병렬 처리를 위한 작업 개수 (-1은 사용 가능한 모든 프로세서를 사용)\n",
        "random_search = RandomizedSearchCV(\n",
        "    estimator=log_reg,            # 평가할 모델\n",
        "    param_distributions=param_dist,  # 탐색할 하이퍼파라미터 분포\n",
        "    n_iter=50,                    # 50개의 서로 다른 하이퍼파라미터 조합을 시도\n",
        "    cv=5,                         # 5-폴드 교차검증을 수행하여 모델 성능 평가\n",
        "    random_state=42,              # 결과 재현을 위한 난수 시드\n",
        "    n_jobs=-1                     # 가능한 모든 CPU 코어 사용 (병렬 처리)\n",
        ")\n",
        "\n",
        "# 4. 훈련 데이터에 대해 랜덤 서치를 수행하여 최적의 하이퍼파라미터 탐색\n",
        "# ------------------------------------------------------------------------------\n",
        "# X_train: 특성(feature) 데이터셋 (훈련 데이터)\n",
        "# y_train: 타겟(target) 데이터셋 (훈련 데이터)\n",
        "# .fit() 메서드를 통해 각 하이퍼파라미터 조합에 대해 5-폴드 교차검증을 수행하고,\n",
        "# 최적의 성능을 보이는 조합을 선택하게 됨\n",
        "random_search.fit(X_train, y_train)\n",
        "\n",
        "# 5. 최적 모델 및 하이퍼파라미터 출력\n",
        "# ------------------------------------------------------------------------------\n",
        "# best_estimator_: 최적의 하이퍼파라미터로 학습된 모델 객체\n",
        "# best_params_: 최적의 성능을 보인 하이퍼파라미터 조합 (딕셔너리 형태)\n",
        "best_model = random_search.best_estimator_\n",
        "print(\"\\n최적의 하이퍼파라미터:\", random_search.best_params_)\n"
      ],
      "metadata": {
        "colab": {
          "base_uri": "https://localhost:8080/",
          "height": 685
        },
        "id": "6RPdP2C4ONBH",
        "outputId": "b9e8cb00-b305-431e-99fa-a4a0b7483cfa"
      },
      "execution_count": null,
      "outputs": [
        {
          "output_type": "stream",
          "name": "stdout",
          "text": [
            "\n",
            "혼동행렬:\n",
            " [[100  10]\n",
            " [ 27  42]]\n",
            "\n",
            "분류 성능 보고서:\n",
            "               precision    recall  f1-score   support\n",
            "\n",
            "           0       0.79      0.91      0.84       110\n",
            "           1       0.81      0.61      0.69        69\n",
            "\n",
            "    accuracy                           0.79       179\n",
            "   macro avg       0.80      0.76      0.77       179\n",
            "weighted avg       0.80      0.79      0.79       179\n",
            "\n"
          ]
        },
        {
          "output_type": "display_data",
          "data": {
            "text/plain": [
              "<Figure size 600x400 with 2 Axes>"
            ],
            "image/png": "[encoded data removed]"
          },
          "metadata": {}
        }
      ]
    },
    {
      "cell_type": "markdown",
      "source": [
        "# **전체 정확도 79%는 준수하지만, 생존자 판별(Recall=0.61)을 더 개선할 필요가 있음.**\n",
        "**임곗값 조정, 추가 피처 발굴 등으로 재현율을 높일 수 있음.**"
      ],
      "metadata": {
        "id": "C1ybLojaQpgZ"
      }
    }
  ]
}